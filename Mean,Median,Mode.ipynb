{
  "nbformat": 4,
  "nbformat_minor": 0,
  "metadata": {
    "colab": {
      "provenance": []
    },
    "kernelspec": {
      "name": "python3",
      "display_name": "Python 3"
    },
    "language_info": {
      "name": "python"
    }
  },
  "cells": [
    {
      "cell_type": "code",
      "execution_count": 1,
      "metadata": {
        "colab": {
          "base_uri": "https://localhost:8080/"
        },
        "id": "wUoXyMk3T9LG",
        "outputId": "de58763f-bc5c-4bda-94e6-0f8b3c6c1447"
      },
      "outputs": [
        {
          "output_type": "stream",
          "name": "stdout",
          "text": [
            "Mean values for each numeric column:\n",
            "age          54.354343\n",
            "sex           0.688559\n",
            "cp            1.279131\n",
            "trestbps    131.549258\n",
            "chol        246.855403\n",
            "fbs           0.148305\n",
            "restecg       0.597458\n",
            "thalachh    149.424258\n",
            "exang         0.331568\n",
            "oldpeak       1.053761\n",
            "slope         1.421610\n",
            "ca            0.731462\n",
            "thal          2.662606\n",
            "target        0.517479\n",
            "dtype: float64\n"
          ]
        }
      ],
      "source": [
        "import pandas as pd\n",
        "\n",
        "# Load the dataset\n",
        "file_path = 'cleaned_merged_heart_dataset.csv'  # Update this to the correct file path if needed\n",
        "data = pd.read_csv(file_path)\n",
        "\n",
        "# Calculate the mean for each numeric column\n",
        "mean_values = data.mean(numeric_only=True)\n",
        "\n",
        "# Print the mean values\n",
        "print(\"Mean values for each numeric column:\")\n",
        "print(mean_values)\n"
      ]
    },
    {
      "cell_type": "code",
      "source": [
        "import pandas as pd\n",
        "\n",
        "# Load the dataset\n",
        "file_path = 'cleaned_merged_heart_dataset.csv'  # Update this to the correct file path if needed\n",
        "data = pd.read_csv(file_path)\n",
        "\n",
        "# Calculate the median for each numeric column\n",
        "median_values = data.median(numeric_only=True)\n",
        "\n",
        "# Print the median values\n",
        "print(\"Median values for each numeric column:\")\n",
        "print(median_values)\n"
      ],
      "metadata": {
        "colab": {
          "base_uri": "https://localhost:8080/"
        },
        "id": "K2TRFC6hZfNk",
        "outputId": "cb02e15e-3a64-4cdf-9634-d0c5ef547527"
      },
      "execution_count": 2,
      "outputs": [
        {
          "output_type": "stream",
          "name": "stdout",
          "text": [
            "Median values for each numeric column:\n",
            "age          55.0\n",
            "sex           1.0\n",
            "cp            1.0\n",
            "trestbps    130.0\n",
            "chol        241.0\n",
            "fbs           0.0\n",
            "restecg       1.0\n",
            "thalachh    152.0\n",
            "exang         0.0\n",
            "oldpeak       0.8\n",
            "slope         1.0\n",
            "ca            0.0\n",
            "thal          2.0\n",
            "target        1.0\n",
            "dtype: float64\n"
          ]
        }
      ]
    },
    {
      "cell_type": "code",
      "source": [
        "import pandas as pd\n",
        "\n",
        "# Load the dataset\n",
        "file_path = 'cleaned_merged_heart_dataset.csv'  # Update this to the correct file path if needed\n",
        "data = pd.read_csv(file_path)\n",
        "\n",
        "# Calculate the mode for each column\n",
        "mode_values = data.mode()\n",
        "\n",
        "# Print the mode values\n",
        "print(\"Mode values for each column:\")\n",
        "print(mode_values)\n"
      ],
      "metadata": {
        "id": "W7_QDHOiZ8Rf",
        "outputId": "1908fa40-0d0c-456a-b093-a2e889ea399d",
        "colab": {
          "base_uri": "https://localhost:8080/"
        }
      },
      "execution_count": 3,
      "outputs": [
        {
          "output_type": "stream",
          "name": "stdout",
          "text": [
            "Mode values for each column:\n",
            "   age  sex  cp  trestbps  chol  fbs  restecg  thalachh  exang  oldpeak  \\\n",
            "0   58    1   0       120   234    0        0       162      0      0.0   \n",
            "\n",
            "   slope  ca  thal  target  \n",
            "0      1   0     2       1  \n"
          ]
        }
      ]
    }
  ]
}